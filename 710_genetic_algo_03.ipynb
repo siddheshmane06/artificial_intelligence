{
 "cells": [
  {
   "cell_type": "code",
   "execution_count": 1,
   "id": "9e88c94d",
   "metadata": {},
   "outputs": [
    {
     "name": "stdout",
     "output_type": "stream",
     "text": [
      "Requirement already satisfied: deap in c:\\users\\lenovo\\anaconda3\\lib\\site-packages (1.3.3)\n",
      "Requirement already satisfied: numpy in c:\\users\\lenovo\\anaconda3\\lib\\site-packages (from deap) (1.21.5)\n"
     ]
    }
   ],
   "source": [
    "!pip install deap\n",
    "from deap import tools\n",
    "import random"
   ]
  },
  {
   "cell_type": "code",
   "execution_count": 2,
   "id": "8880ac73",
   "metadata": {},
   "outputs": [],
   "source": [
    "population = [\"10101010\",\"11110000\",\"01010101\",\"00001111\",\"10111011\",\"11100111\",\"00000000\"]"
   ]
  },
  {
   "cell_type": "code",
   "execution_count": 3,
   "id": "b83a7270",
   "metadata": {},
   "outputs": [],
   "source": [
    "binary = []\n",
    "for i in range(len(population)):\n",
    "    binary.append(int(population[i],2))"
   ]
  },
  {
   "cell_type": "code",
   "execution_count": 4,
   "id": "0b4c30a0",
   "metadata": {},
   "outputs": [
    {
     "name": "stdout",
     "output_type": "stream",
     "text": [
      "[170, 240, 85, 15, 187, 231, 0]\n"
     ]
    }
   ],
   "source": [
    "print(binary)"
   ]
  },
  {
   "cell_type": "code",
   "execution_count": 5,
   "id": "6c871dde",
   "metadata": {},
   "outputs": [
    {
     "name": "stdout",
     "output_type": "stream",
     "text": [
      "Individual [ 0 ]:  10101010 \tFitness:  170\n",
      "Individual [ 1 ]:  11110000 \tFitness:  240\n",
      "Individual [ 2 ]:  01010101 \tFitness:  85\n",
      "Individual [ 3 ]:  00001111 \tFitness:  15\n",
      "Individual [ 4 ]:  10111011 \tFitness:  187\n",
      "Individual [ 5 ]:  11100111 \tFitness:  231\n",
      "Individual [ 6 ]:  00000000 \tFitness:  0\n"
     ]
    }
   ],
   "source": [
    "for i in range (len(population)):\n",
    "    print(\"Individual [\",i,\"]: \",population[i],\"\\tFitness: \", binary[i])"
   ]
  },
  {
   "cell_type": "code",
   "execution_count": 6,
   "id": "8233ef06",
   "metadata": {},
   "outputs": [
    {
     "name": "stdout",
     "output_type": "stream",
     "text": [
      "\n",
      "Please Enter Choice(or to Quit type exit)\n",
      "Crossover or Mutation:mutation\n",
      "Selected Individual:  11100111 \tFitness:  231\n",
      "\n",
      "Mutated Child:  10100111 \tFitness:  167 \n",
      "\n",
      "Child has not evolved\n",
      "\n",
      "Please Enter Choice(or to Quit type exit)\n",
      "Crossover or Mutation:crossover\n",
      "Selected Individuals\n",
      "Parent 1:  10101010 \tFitness:  170 \n",
      "Parent 2:  00001111 \tFitness:  15 \n",
      "\n",
      "Child 1:  10101111 \tFitness:  175\n",
      "Child 2: 00001010 \tFitness:  10\n",
      "\n",
      "Child  10101111  Survives to next generation\n",
      "\n",
      "Please Enter Choice(or to Quit type exit)\n",
      "Crossover or Mutation:cros\n",
      "Please enter a valid choice\n",
      "\n",
      "Please Enter Choice(or to Quit type exit)\n",
      "Crossover or Mutation:exit\n"
     ]
    }
   ],
   "source": [
    "def crossoverEP():\n",
    "    #selecting parents using function selRandom()\n",
    "    parents=tools.selection.selRandom(population,2)\n",
    "    print(\"Selected Individuals\\nParent 1: \",parents[0],\"\\tFitness: \",binary[population.index(parents[0])],\"\\nParent 2: \",parents[1],\"\\tFitness: \",binary[population.index(parents[1])],\"\\n\")\n",
    "    #Creating children using cxOnePoint() function to perform one point crossover\n",
    "    children=list(tools.crossover.cxOnePoint(list(parents[0]),list(parents[1])))\n",
    "    #cxOnePoint() returns character lists of two children converting them to string using .join() and calculating their fitness value using int()\n",
    "    f_child1=int(\"\".join(children[0]),2)\n",
    "    f_child2=int(\"\".join(children[1]),2)\n",
    "    #printing children and their fitness value\n",
    "    print(\"Child 1: \",\"\".join(children[0]),\"\\tFitness: \",f_child1)\n",
    "    print(\"Child 2:\",\"\".join(children[1]),\"\\tFitness: \",f_child2)\n",
    "    #finding out which child is stronger to survive for next generation\n",
    "    if(f_child1<f_child2):\n",
    "       print(\"\\nChild \",\"\".join(children[1]),\" Survives to next generation\")\n",
    "    else:\n",
    "       print(\"\\nChild \",\"\".join(children[0]),\" Survives to next generation\")\n",
    "\n",
    "\n",
    "\n",
    "def mutationEP():\n",
    "    #selecting parent using selRandom()\n",
    "    parent=tools.selection.selRandom(population,1)\n",
    "    print(\"Selected Individual: \",parent[0],\"\\tFitness: \",binary[population.index(parent[0])])\n",
    "    #converting string parent to list of characters because python strings are immutable\n",
    "    child_list=list(parent[0])\n",
    "    #selecting random mutation bit\n",
    "    mutate_bit=random.choice(range(1,7))\n",
    "    #mutation process\n",
    "    if child_list[mutate_bit]=='1':\n",
    "        child_list[mutate_bit]='0'\n",
    "    else:\n",
    "        child_list[mutate_bit]='1'\n",
    "    #Calculating the fitness value of child\n",
    "    child=int(\"\".join(child_list),2)\n",
    "    print(\"\\nMutated Child: \",\"\".join(child_list),\"\\tFitness: \",child,\"\\n\")\n",
    "    #finding if the child has evolved or not\n",
    "    if(child<=binary[population.index(parent[0])]):\n",
    "       print(\"Child has not evolved\")\n",
    "    if(child>binary[population.index(parent[0])]):\n",
    "       print(\"Child has evolved\")\n",
    "\n",
    "\n",
    "\n",
    "while True:\n",
    "    evolution=input(\"\\nPlease Enter Choice(or to Quit type exit)\\nCrossover or Mutation:\").lower()\n",
    "    if evolution==\"crossover\":\n",
    "        crossoverEP()\n",
    "    elif evolution==\"mutation\":\n",
    "        mutationEP()\n",
    "    elif evolution==\"exit\":\n",
    "        break\n",
    "    else:\n",
    "        print(\"Please enter a valid choice\")"
   ]
  },
  {
   "cell_type": "code",
   "execution_count": null,
   "id": "61067c4f",
   "metadata": {},
   "outputs": [],
   "source": []
  }
 ],
 "metadata": {
  "kernelspec": {
   "display_name": "Python 3 (ipykernel)",
   "language": "python",
   "name": "python3"
  },
  "language_info": {
   "codemirror_mode": {
    "name": "ipython",
    "version": 3
   },
   "file_extension": ".py",
   "mimetype": "text/x-python",
   "name": "python",
   "nbconvert_exporter": "python",
   "pygments_lexer": "ipython3",
   "version": "3.9.12"
  },
  "vscode": {
   "interpreter": {
    "hash": "369f2c481f4da34e4445cda3fffd2e751bd1c4d706f27375911949ba6bb62e1c"
   }
  }
 },
 "nbformat": 4,
 "nbformat_minor": 5
}
